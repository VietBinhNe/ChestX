{
  "cells": [
    {
      "cell_type": "markdown",
      "metadata": {
        "id": "wvR4suzRWe8Z"
      },
      "source": [
        "# **Training Model** 🫁"
      ]
    },
    {
      "cell_type": "markdown",
      "metadata": {
        "id": "Hvy4UNYdWsdg"
      },
      "source": [
        "## **0.** Settings"
      ]
    },
    {
      "cell_type": "code",
      "execution_count": 1,
      "metadata": {
        "colab": {
          "base_uri": "https://localhost:8080/"
        },
        "id": "6b29Gh35WuTa",
        "outputId": "d33b7c4e-46e3-4880-e6c3-ffc131a6935d"
      },
      "outputs": [
        {
          "output_type": "stream",
          "name": "stdout",
          "text": [
            "Mounted at /content/drive\n"
          ]
        }
      ],
      "source": [
        "from google.colab import drive\n",
        "drive.mount('/content/drive')"
      ]
    },
    {
      "cell_type": "code",
      "execution_count": 15,
      "metadata": {
        "id": "Vwj7A1BrX0yL"
      },
      "outputs": [],
      "source": [
        "from sklearn.model_selection import train_test_split\n",
        "from sklearn.metrics import confusion_matrix\n",
        "import matplotlib.pyplot as plt\n",
        "import seaborn as sns\n",
        "import numpy as np\n",
        "import copy\n",
        "import os\n",
        "\n",
        "# PyTorch\n",
        "import torch\n",
        "\n",
        "# PyTorch - Neural Networks\n",
        "import torch.nn as nn\n",
        "from torch import nn\n",
        "\n",
        "# PyTorch - Gradient Descent Optimizers\n",
        "from torch import optim\n",
        "\n",
        "# PyTorch - Others\n",
        "from torchvision import datasets, transforms, models\n",
        "import torchvision.transforms as transform\n",
        "import torchvision.models as models\n",
        "import torch.nn.functional as F\n",
        "from torch.utils.data import DataLoader\n",
        "\n",
        "# Warnings off : Removes unnecessary warnings for a cleaner interface.\n",
        "import warnings\n",
        "warnings.filterwarnings(\"ignore\")\n",
        "\n",
        "# Fix a seed for PyTorch\n",
        "torch.manual_seed(42);"
      ]
    },
    {
      "cell_type": "code",
      "execution_count": 6,
      "metadata": {
        "id": "624qsYR5cx67"
      },
      "outputs": [],
      "source": [
        "## ===========================\n",
        "##   Using GPU\n",
        "## ===========================\n",
        "\n",
        "gpu = True\n",
        "\n",
        "if gpu == True:\n",
        "    device = torch.device('cuda')\n",
        "else:\n",
        "    device = torch.device('cpu')"
      ]
    },
    {
      "cell_type": "markdown",
      "metadata": {
        "id": "5D0OtBpYWv5z"
      },
      "source": [
        "## **1.** Dataset"
      ]
    },
    {
      "cell_type": "code",
      "execution_count": 8,
      "metadata": {
        "id": "rwhiHR2TWxJz",
        "colab": {
          "base_uri": "https://localhost:8080/"
        },
        "outputId": "a557ee41-7157-441f-ef3b-fc28dbcfd077"
      },
      "outputs": [
        {
          "output_type": "stream",
          "name": "stdout",
          "text": [
            "Archive:  /content/drive/MyDrive/Data/Data.zip\n",
            "replace Data/test/NORMAL/IM-0001-0001.jpeg? [y]es, [n]o, [A]ll, [N]one, [r]ename: y\n",
            "  inflating: Data/test/NORMAL/IM-0001-0001.jpeg  \n",
            "replace Data/test/NORMAL/IM-0003-0001.jpeg? [y]es, [n]o, [A]ll, [N]one, [r]ename: y\n",
            "  inflating: Data/test/NORMAL/IM-0003-0001.jpeg  \n",
            "replace Data/test/NORMAL/IM-0005-0001.jpeg? [y]es, [n]o, [A]ll, [N]one, [r]ename: "
          ]
        }
      ],
      "source": [
        "# Unzip the dataset\n",
        "!unzip '/content/drive/MyDrive/Data/Data.zip'"
      ]
    },
    {
      "cell_type": "markdown",
      "metadata": {
        "id": "TJtuBEkpddJc"
      },
      "source": [
        "## **2.** Prepare Train & Vailid data + Classes Weighting\n"
      ]
    },
    {
      "cell_type": "code",
      "execution_count": 20,
      "metadata": {
        "id": "h11JRdjjdfhK"
      },
      "outputs": [],
      "source": [
        "def prepare_dataset(data_dir, sub_dir='train'):\n",
        "    \"\"\"\n",
        "    Prepare the dataset with transformations and split it into training and validation sets.\n",
        "\n",
        "    Parameters:\n",
        "    - data_dir (str): Path to the main data directory.\n",
        "    - sub_dir (str): The subdirectory where the train data is stored (default: 'train').\n",
        "\n",
        "    Returns:\n",
        "    - train_split: Training dataset split.\n",
        "    - val_split: Validation dataset split.\n",
        "    \"\"\"\n",
        "\n",
        "    full_dir = os.path.join(data_dir, sub_dir)\n",
        "    if not os.path.exists(full_dir):\n",
        "        raise FileNotFoundError(f\"Directory {full_dir} doesn't exist. Please check the path again!\")\n",
        "\n",
        "    # Define transformations to apply to the data\n",
        "    data_transform = transforms.Compose([\n",
        "        transforms.Resize((256, 256)),\n",
        "        transforms.CenterCrop(224),\n",
        "        transforms.RandomHorizontalFlip(),\n",
        "        transforms.RandomRotation(10),\n",
        "        transforms.RandomGrayscale(),\n",
        "        transforms.RandomAffine(translate=(0.05, 0.05), degrees=0),\n",
        "        transforms.ToTensor()\n",
        "    ])\n",
        "\n",
        "    # Load the dataset using ImageFolder and apply transformations\n",
        "    dataset = datasets.ImageFolder(full_dir, transform=data_transform)\n",
        "    print(f\"Classes: {dataset.classes}\")\n",
        "    print(f\"Total images: {len(dataset)}\")\n",
        "\n",
        "    # Split dataset into training and validation sets\n",
        "    train_split, val_split = train_test_split(dataset, test_size=0.3, random_state=42)\n",
        "    print(f\"Training set size: {len(train_split)}\")\n",
        "    print(f\"Validation set size: {len(val_split)}\")\n",
        "\n",
        "    return train_split, val_split\n",
        "\n",
        "\n",
        "def load_data(data_dir, sub_dir='train', batch_size=64):\n",
        "    train_split, val_split = prepare_dataset(data_dir, sub_dir)\n",
        "\n",
        "    # Create DataLoader for train and validation datasets\n",
        "    train_loader = DataLoader(train_split, batch_size=batch_size, shuffle=True)\n",
        "    val_loader = DataLoader(val_split, batch_size=batch_size, shuffle=True)\n",
        "\n",
        "    # Define class index mapping\n",
        "    class_index = {0: 'NORMAL', 1: 'PNEUMONIA'}\n",
        "\n",
        "    return train_loader, val_loader, class_index\n",
        "\n",
        "## ===========================\n",
        "##   WEIGHTING\n",
        "## ===========================\n",
        "\n",
        "def analyze_data(data_dir):\n",
        "    train_dir = os.path.join(data_dir, 'train')\n",
        "    normal_train_dir = os.path.join(train_dir, 'NORMAL')\n",
        "    pneumonia_train_dir = os.path.join(train_dir, 'PNEUMONIA')\n",
        "\n",
        "    if not os.path.exists(normal_train_dir) or not os.path.exists(pneumonia_train_dir):\n",
        "        raise FileNotFoundError(\"One or more specified data directories do not exist. Pls check the paths.\")\n",
        "\n",
        "    # Count samples\n",
        "    n_samples_nr_train = len(os.listdir(normal_train_dir))\n",
        "    n_samples_pn_train = len(os.listdir(pneumonia_train_dir))\n",
        "\n",
        "    # Define result\n",
        "    class_count = {0: n_samples_nr_train, 1: n_samples_pn_train}\n",
        "    class_names = {0: 'NORMAL', 1: 'PNEUMONIA'}\n",
        "\n",
        "    return class_count\n",
        "\n",
        "\n",
        "def class_weights(class_count):\n",
        "    \"\"\"\n",
        "    Calculate class weights to handle imbalanced datasets.\n",
        "\n",
        "    Parameters:\n",
        "    - class_count (dict): A dictionary with class indices as keys and sample counts as values.\n",
        "\n",
        "    Returns:\n",
        "    - torch.FloatTensor: A tensor containing class weights.\n",
        "    \"\"\"\n",
        "    samples_0 = class_count[0]\n",
        "    samples_1 = class_count[1]\n",
        "    tot_samples = samples_0 + samples_1\n",
        "\n",
        "    # Calculate weights\n",
        "    weight_0 = 1 - samples_0 / tot_samples\n",
        "    weight_1 = 1 - weight_0  # equivalent to 1 - samples_1 / tot_samples\n",
        "\n",
        "    # Create class weights tensor\n",
        "    class_weights = [weight_0, weight_1]\n",
        "    class_weights_tensor = torch.FloatTensor(class_weights)\n",
        "\n",
        "    # Print weights\n",
        "    print(f\"Class weights: {class_weights}\")\n",
        "    return class_weights_tensor"
      ]
    },
    {
      "cell_type": "code",
      "source": [
        "data_dir = 'Data' #Fill in \" \" your path\n",
        "\n",
        "# Analyze data distribution\n",
        "class_count = analyze_data(data_dir)\n",
        "\n",
        "# Calculate and print class weights\n",
        "class_weights = class_weights(class_count)\n",
        "\n",
        "# Load data\n",
        "train_loader, val_loader, class_index = load_data(data_dir)\n"
      ],
      "metadata": {
        "colab": {
          "base_uri": "https://localhost:8080/"
        },
        "id": "nxGnkg5dozj7",
        "outputId": "85d0b700-5746-4453-b623-089751a63055"
      },
      "execution_count": 21,
      "outputs": [
        {
          "output_type": "stream",
          "name": "stdout",
          "text": [
            "Class weights: [0.7421636085626911, 0.25783639143730885]\n",
            "Classes: ['NORMAL', 'PNEUMONIA']\n",
            "Total images: 5232\n",
            "Training set size: 3662\n",
            "Validation set size: 1570\n"
          ]
        }
      ]
    },
    {
      "cell_type": "markdown",
      "metadata": {
        "id": "1JYK8BNeb88D"
      },
      "source": [
        "## **3.** Model definition"
      ]
    },
    {
      "cell_type": "code",
      "execution_count": 22,
      "metadata": {
        "id": "7_vnLLf-YbqB",
        "colab": {
          "base_uri": "https://localhost:8080/"
        },
        "outputId": "06cf2c9c-cb99-4551-b73d-7fa23639ceb2"
      },
      "outputs": [
        {
          "output_type": "stream",
          "name": "stderr",
          "text": [
            "Downloading: \"https://download.pytorch.org/models/densenet161-8d451a50.pth\" to /root/.cache/torch/hub/checkpoints/densenet161-8d451a50.pth\n",
            "100%|██████████| 110M/110M [00:01<00:00, 99.4MB/s]\n"
          ]
        }
      ],
      "source": [
        "# Base model (transfer learning): DenseNet-161\n",
        "# Transfer Learning\n",
        "model = models.densenet161(pretrained=True)\n",
        "model\n",
        "\n",
        "# Important: compatibility problem\n",
        "# Whatever classifier we put, it will have to have 'model.classifier.in_features' as 'in_features'\n",
        "model.classifier.in_features\n",
        "\n",
        "# Freeze the weights of the pre-trained model\n",
        "for parameter in model.parameters():\n",
        "    parameter.requires_grad = False\n",
        "\n",
        "# Build a custom classifier\n",
        "initial_num_neurons = model.classifier.in_features\n",
        "num_classes = len(class_index)\n",
        "\n",
        "# New classifier\n",
        "classifier = nn.Linear(in_features=initial_num_neurons, out_features=num_classes)\n",
        "\n",
        "# Replace the transfer learning model classifier\n",
        "model.classifier = classifier\n",
        "\n",
        "loss_function = nn.CrossEntropyLoss()\n",
        "optimizer = optim.Adam(model.classifier.parameters(), lr=0.001)\n",
        "scheduler = torch.optim.lr_scheduler.StepLR(optimizer, step_size=4, gamma=0.1)"
      ]
    },
    {
      "cell_type": "markdown",
      "metadata": {
        "id": "qWACU_KBCETH"
      },
      "source": [
        "## **4** Training"
      ]
    },
    {
      "cell_type": "code",
      "execution_count": 23,
      "metadata": {
        "id": "JA6J1FP89Wq6"
      },
      "outputs": [],
      "source": [
        "def calculate_accuracy(outputs, labels):\n",
        "    _, predictions = torch.max(outputs, dim=1)                   # extract the prediction\n",
        "    num_correct    = torch.sum(predictions == labels).item()     # count how many correct predictions (.item() to obtain a python-number)\n",
        "    perc_correct   = torch.tensor(num_correct/len(predictions))\n",
        "\n",
        "    return perc_correct\n",
        "\n",
        "def training_step(model, loader, loss_function):\n",
        "\n",
        "    # Training-mode\n",
        "    model.train()\n",
        "\n",
        "    # For every epoch initialize loss and number of correct predictions\n",
        "    epoch_loss = 0\n",
        "    epoch_correct = 0\n",
        "\n",
        "    #---------------------------------------------------------- Batch-loop ---------#\n",
        "    for images, labels in iter(loader):                                             #\n",
        "                                                                                    #\n",
        "        # Load images and labels to 'device'                                        #\n",
        "        images, labels = images.to(device), labels.to(device)                       #\n",
        "                                                                                    #\n",
        "        # Initialize the gradient                                                   #\n",
        "        optimizer.zero_grad()                                                       #\n",
        "                                                                                    #\n",
        "        #-------------------------------------------------------- Training ----#    #\n",
        "        with torch.set_grad_enabled(True):                                     #    #\n",
        "                                                                               #    #\n",
        "            # Output from the model (from the forward pass)                    #    #\n",
        "            output = model(images)                                             #    #\n",
        "                                                                               #    #\n",
        "            # Calculate the loss_function for the current batch                #    #\n",
        "            loss = loss_function(output, labels)                               #    #\n",
        "                                                                               #    #\n",
        "            # Perform the backpropagation (backpropagate the error)            #    #\n",
        "            loss.backward()                                                    #    #\n",
        "                                                                               #    #\n",
        "            # Gradient descent step to update parameters (weights/biases)      #    #\n",
        "            optimizer.step()                                                   #    #\n",
        "                                                                               #    #\n",
        "            # Extract predictions                                              #    #\n",
        "            _, predictions = torch.max(output, dim=1)                          #    #\n",
        "        #----------------------------------------------------------------------#    #\n",
        "                                                                                    #\n",
        "        # Update loss (+= loss * num_images_in_the_batch)                           #\n",
        "        # (.item(): returns the value of the tensor as a standard number)           #\n",
        "        epoch_loss += loss.item()*images.size(0)                                    #\n",
        "                                                                                    #\n",
        "        # Update correct                                                            #\n",
        "        epoch_correct += torch.sum(predictions == labels)                           #\n",
        "    #-------------------------------------------------------------------------------#\n",
        "\n",
        "    # Get the right epoch loss (element_loss / n_element)\n",
        "    epoch_loss = epoch_loss / len(loader.dataset)\n",
        "\n",
        "    # Accuracy of the current batch (correct / n_samples)\n",
        "    accuracy = epoch_correct.double() / len(loader.dataset)\n",
        "\n",
        "    return epoch_loss, accuracy\n",
        "\n",
        "def evaluate_model(model, loader, loss_function):\n",
        "\n",
        "    # Evaluation-mode\n",
        "    model.eval()\n",
        "\n",
        "    # For every epoch initialize loss and number of correct predictions\n",
        "    epoch_loss = 0\n",
        "    epoch_correct = 0\n",
        "\n",
        "    #---------------------------------------------------------- Batch-loop ---------#\n",
        "    for images, labels in iter(loader):                                             #\n",
        "                                                                                    #\n",
        "        # Load images and labels to 'device'                                        #\n",
        "        images, labels = images.to(device), labels.to(device)                       #\n",
        "                                                                                    #\n",
        "        #------------------------------------------------------ Evaluation ----#    #\n",
        "        with torch.set_grad_enabled(False):                                    #    #\n",
        "                                                                               #    #\n",
        "            # Output from the model (from the forward pass)                    #    #\n",
        "            output = model(images)                                             #    #\n",
        "                                                                               #    #\n",
        "            # Calculate the loss_function for the current batch                #    #\n",
        "            loss = loss_function(output, labels)                               #    #\n",
        "                                                                               #    #\n",
        "            # Extract predictions                                              #    #\n",
        "            _, predictions = torch.max(output, dim=1)                          #    #\n",
        "        #----------------------------------------------------------------------#    #\n",
        "                                                                                    #\n",
        "        # Update loss (+= loss * num_images_in_the_batch)                           #\n",
        "        # (.item(): returns the value of the tensor as a standard number)           #\n",
        "        epoch_loss += loss.item()*images.size(0)                                    #\n",
        "                                                                                    #\n",
        "        # Update correct                                                            #\n",
        "        epoch_correct += torch.sum(predictions == labels)                           #\n",
        "    #-------------------------------------------------------------------------------#\n",
        "\n",
        "    # Get the right epoch loss (element_loss / n_element)\n",
        "    epoch_loss = epoch_loss / len(loader.dataset)\n",
        "\n",
        "    # Accuracy of the current batch (correct / n_samples)\n",
        "    accuracy = epoch_correct.double() / len(loader.dataset)\n",
        "\n",
        "    return epoch_loss, accuracy"
      ]
    },
    {
      "cell_type": "code",
      "execution_count": 25,
      "metadata": {
        "colab": {
          "base_uri": "https://localhost:8080/"
        },
        "id": "t8WNiWJEK3Km",
        "outputId": "7f7a8225-9d82-45c3-dc7b-98aaa25420d5"
      },
      "outputs": [
        {
          "output_type": "stream",
          "name": "stdout",
          "text": [
            "Epoch: 01/30 - train_loss: 0.1297 - train_accuracy: 0.9569 - val_loss: 0.1309 - val_accuracy: 0.9522\n",
            "Epoch: 01/30 - val_loss improved from inf to 0.1309, new model saved\n",
            "Epoch: 02/30 - train_loss: 0.1298 - train_accuracy: 0.9544 - val_loss: 0.1279 - val_accuracy: 0.9554\n",
            "Epoch: 02/30 - val_loss improved from 0.1309 to 0.1279, new model saved\n",
            "Epoch: 03/30 - train_loss: 0.1272 - train_accuracy: 0.9558 - val_loss: 0.1277 - val_accuracy: 0.9522\n",
            "Epoch: 03/30 - val_loss improved from 0.1279 to 0.1277, new model saved\n",
            "Epoch: 04/30 - train_loss: 0.1274 - train_accuracy: 0.9596 - val_loss: 0.1262 - val_accuracy: 0.9554\n",
            "Epoch: 04/30 - val_loss improved from 0.1277 to 0.1262, new model saved\n",
            "Epoch: 05/30 - train_loss: 0.1263 - train_accuracy: 0.9552 - val_loss: 0.1261 - val_accuracy: 0.9548\n",
            "Epoch: 05/30 - val_loss improved from 0.1262 to 0.1261, new model saved\n",
            "Epoch: 06/30 - train_loss: 0.1243 - train_accuracy: 0.9549 - val_loss: 0.1268 - val_accuracy: 0.9541\n",
            "Epoch: 06/30 - val_loss did not improve\n",
            "Epoch: 07/30 - train_loss: 0.1277 - train_accuracy: 0.9549 - val_loss: 0.1265 - val_accuracy: 0.9567\n",
            "Epoch: 07/30 - val_loss did not improve\n",
            "Epoch: 08/30 - train_loss: 0.1238 - train_accuracy: 0.9593 - val_loss: 0.1265 - val_accuracy: 0.9541\n",
            "Epoch: 08/30 - val_loss did not improve\n",
            "Epoch: 09/30 - train_loss: 0.1251 - train_accuracy: 0.9585 - val_loss: 0.1265 - val_accuracy: 0.9567\n",
            "Epoch: 09/30 - val_loss did not improve\n",
            "Epoch: 10/30 - train_loss: 0.1241 - train_accuracy: 0.9571 - val_loss: 0.1263 - val_accuracy: 0.9573\n",
            "Epoch: 10/30 - val_loss did not improve\n",
            "Epoch: 11/30 - train_loss: 0.1267 - train_accuracy: 0.9579 - val_loss: 0.1265 - val_accuracy: 0.9548\n",
            "Epoch: 11/30 - val_loss did not improve\n",
            "Epoch: 12/30 - train_loss: 0.1257 - train_accuracy: 0.9585 - val_loss: 0.1252 - val_accuracy: 0.9618\n",
            "Epoch: 12/30 - val_loss improved from 0.1261 to 0.1252, new model saved\n",
            "Epoch: 13/30 - train_loss: 0.1238 - train_accuracy: 0.9574 - val_loss: 0.1252 - val_accuracy: 0.9567\n",
            "Epoch: 13/30 - val_loss improved from 0.1252 to 0.1252, new model saved\n",
            "Epoch: 14/30 - train_loss: 0.1269 - train_accuracy: 0.9569 - val_loss: 0.1254 - val_accuracy: 0.9567\n",
            "Epoch: 14/30 - val_loss did not improve\n",
            "Epoch: 15/30 - train_loss: 0.1259 - train_accuracy: 0.9547 - val_loss: 0.1258 - val_accuracy: 0.9580\n",
            "Epoch: 15/30 - val_loss did not improve\n",
            "Epoch: 16/30 - train_loss: 0.1226 - train_accuracy: 0.9590 - val_loss: 0.1258 - val_accuracy: 0.9561\n",
            "Epoch: 16/30 - val_loss did not improve\n",
            "Epoch: 17/30 - train_loss: 0.1234 - train_accuracy: 0.9558 - val_loss: 0.1258 - val_accuracy: 0.9561\n",
            "Epoch: 17/30 - val_loss did not improve\n",
            "Epoch: 18/30 - train_loss: 0.1267 - train_accuracy: 0.9569 - val_loss: 0.1256 - val_accuracy: 0.9567\n",
            "Epoch: 18/30 - val_loss did not improve\n",
            "Epoch: 19/30 - train_loss: 0.1238 - train_accuracy: 0.9577 - val_loss: 0.1255 - val_accuracy: 0.9580\n",
            "Epoch: 19/30 - val_loss did not improve\n",
            "Epoch: 20/30 - train_loss: 0.1254 - train_accuracy: 0.9552 - val_loss: 0.1276 - val_accuracy: 0.9522\n",
            "Epoch: 20/30 - val_loss did not improve\n",
            "Epoch: 21/30 - train_loss: 0.1234 - train_accuracy: 0.9569 - val_loss: 0.1256 - val_accuracy: 0.9567\n",
            "Epoch: 21/30 - val_loss did not improve\n",
            "Epoch: 22/30 - train_loss: 0.1271 - train_accuracy: 0.9574 - val_loss: 0.1258 - val_accuracy: 0.9541\n",
            "Epoch: 22/30 - val_loss did not improve\n",
            "Epoch: 23/30 - train_loss: 0.1251 - train_accuracy: 0.9588 - val_loss: 0.1257 - val_accuracy: 0.9573\n",
            "Epoch: 23/30 - val_loss did not improve\n",
            "Epoch: 24/30 - train_loss: 0.1245 - train_accuracy: 0.9582 - val_loss: 0.1263 - val_accuracy: 0.9561\n",
            "Epoch: 24/30 - val_loss did not improve\n",
            "Epoch: 25/30 - train_loss: 0.1238 - train_accuracy: 0.9599 - val_loss: 0.1270 - val_accuracy: 0.9548\n",
            "Epoch: 25/30 - val_loss did not improve\n",
            "Epoch: 26/30 - train_loss: 0.1257 - train_accuracy: 0.9563 - val_loss: 0.1273 - val_accuracy: 0.9497\n",
            "Epoch: 26/30 - val_loss did not improve\n",
            "Epoch: 27/30 - train_loss: 0.1235 - train_accuracy: 0.9585 - val_loss: 0.1260 - val_accuracy: 0.9580\n",
            "Epoch: 27/30 - val_loss did not improve\n",
            "Epoch: 28/30 - train_loss: 0.1252 - train_accuracy: 0.9574 - val_loss: 0.1279 - val_accuracy: 0.9516\n",
            "Epoch: 28/30 - val_loss did not improve\n",
            "Epoch: 29/30 - train_loss: 0.1267 - train_accuracy: 0.9549 - val_loss: 0.1261 - val_accuracy: 0.9548\n",
            "Epoch: 29/30 - val_loss did not improve\n",
            "Epoch: 30/30 - train_loss: 0.1255 - train_accuracy: 0.9552 - val_loss: 0.1262 - val_accuracy: 0.9548\n",
            "Epoch: 30/30 - val_loss did not improve\n"
          ]
        }
      ],
      "source": [
        "# Number of epochs\n",
        "epochs = 30\n",
        "\n",
        "# Monitor 'val_loss'\n",
        "best_val_loss = float('inf')\n",
        "\n",
        "# Model to device\n",
        "model.to(device)\n",
        "\n",
        "# For the records\n",
        "train_loss_savings = []\n",
        "train_acc_savings  = []\n",
        "val_loss_savings   = []\n",
        "val_acc_savings    = []\n",
        "\n",
        "# Saving the model\n",
        "best_model = copy.deepcopy(model.state_dict())\n",
        "\n",
        "# ======================================\n",
        "#   TRAINING\n",
        "# ======================================\n",
        "\n",
        "for epoch in range(epochs):\n",
        "\n",
        "    # Training step\n",
        "    train_loss, train_acc = training_step(model, train_loader, loss_function)\n",
        "    train_loss_savings.append(train_loss)\n",
        "    train_acc_savings.append(train_acc.item())\n",
        "\n",
        "    # Evaluation step\n",
        "    val_loss, val_acc = evaluate_model(model, val_loader, loss_function)\n",
        "    val_loss_savings.append(val_loss)\n",
        "    val_acc_savings.append(val_acc.item())\n",
        "\n",
        "    # Print results\n",
        "    print(f'Epoch: {epoch+1:02}/{epochs} - train_loss: {train_loss:.4f} - train_accuracy: {train_acc:.4f} - val_loss: {val_loss:.4f} - val_accuracy: {val_acc:.4f}')\n",
        "\n",
        "    # If the val_loss improved, save the model\n",
        "    if val_loss < best_val_loss:\n",
        "        print(f'Epoch: {epoch+1:02}/{epochs} - val_loss improved from {best_val_loss:.4f} to {val_loss:.4f}, new model saved')\n",
        "        best_val_loss = val_loss\n",
        "        best_model = copy.deepcopy(model.state_dict())\n",
        "    else:\n",
        "        print(f'Epoch: {epoch+1:02}/{epochs} - val_loss did not improve')\n",
        "\n",
        "    # Update scheduler (learning rate adapter)\n",
        "    scheduler.step()"
      ]
    },
    {
      "cell_type": "code",
      "execution_count": 26,
      "metadata": {
        "colab": {
          "base_uri": "https://localhost:8080/",
          "height": 360
        },
        "id": "Oknog3wr9Okf",
        "outputId": "d9154402-a682-4ba9-cdb7-6b3c4bc4209d"
      },
      "outputs": [
        {
          "output_type": "display_data",
          "data": {
            "text/plain": [
              "<Figure size 2000x400 with 2 Axes>"
            ],
            "image/png": "[encoded data removed]"
          },
          "metadata": {}
        }
      ],
      "source": [
        "# ======================================\n",
        "#   TRENDS\n",
        "# ======================================\n",
        "\n",
        "plt.figure(figsize=(20,4));\n",
        "\n",
        "# Loss function\n",
        "plt.subplot(1,2,1)\n",
        "plt.plot(train_loss_savings, label='Training Loss');\n",
        "plt.plot(val_loss_savings, label='Validation Loss');\n",
        "plt.title('Loss function');\n",
        "plt.xlabel('Epochs');\n",
        "plt.legend();\n",
        "\n",
        "# Accuracy\n",
        "plt.subplot(1,2,2)\n",
        "plt.plot(train_acc_savings, label='Training Accuracy');\n",
        "plt.plot(val_acc_savings, label='Validation Accuracy');\n",
        "plt.title('Accuracy');\n",
        "plt.xlabel('Epochs');\n",
        "plt.legend();"
      ]
    },
    {
      "cell_type": "code",
      "execution_count": 27,
      "metadata": {
        "id": "40tPWcUgJj_A"
      },
      "outputs": [],
      "source": [
        "# ======================================\n",
        "#   SAVE THE MODEL\n",
        "# ======================================\n",
        "\n",
        "# Path for saving the best model\n",
        "path_best_model = '/content/drive/MyDrive/Model/'\n",
        "\n",
        "# Save the model\n",
        "torch.save(model.state_dict(), path_best_model + 'best-model-weighted.pt')"
      ]
    },
    {
      "cell_type": "markdown",
      "source": [
        "Predict"
      ],
      "metadata": {
        "id": "6Ot2HqemxkLJ"
      }
    },
    {
      "cell_type": "code",
      "source": [
        "# Load the best version of the model\n",
        "model.load_state_dict(torch.load(path_best_model + 'best-model-weighted.pt'))"
      ],
      "metadata": {
        "colab": {
          "base_uri": "https://localhost:8080/"
        },
        "id": "mp_pSJHAxmI_",
        "outputId": "35640eb7-9c0f-4dc5-ff58-7809c0fddc81"
      },
      "execution_count": 28,
      "outputs": [
        {
          "output_type": "execute_result",
          "data": {
            "text/plain": [
              "<All keys matched successfully>"
            ]
          },
          "metadata": {},
          "execution_count": 28
        }
      ]
    },
    {
      "cell_type": "code",
      "source": [
        "# Import the test data\n",
        "test_transform = transforms.Compose([\n",
        "                     transforms.Resize((256, 256)),\n",
        "                     transforms.CenterCrop(224),\n",
        "                     transforms.ToTensor()])\n",
        "\n",
        "test_data = datasets.ImageFolder('Data/test', transform = test_transform)\n",
        "test_loader = torch.utils.data.DataLoader(test_data, batch_size = 64, shuffle = True)"
      ],
      "metadata": {
        "id": "NGzg5yPQxqjt"
      },
      "execution_count": 30,
      "outputs": []
    },
    {
      "cell_type": "code",
      "source": [
        "def get_probs_and_preds(model, loader):\n",
        "\n",
        "    model.eval()\n",
        "\n",
        "    images_savings = []\n",
        "    labels_savings = []\n",
        "    probs_savings  = []\n",
        "    preds_savings  = []\n",
        "\n",
        "    #---------------------------------------------------------- Batch-loop ---------#\n",
        "    for images, labels in iter(loader):                                             #\n",
        "        images, labels = images.to(device), labels.to(device)                       #\n",
        "        #------------------------------------------------------ Evaluation ----#    #\n",
        "        with torch.set_grad_enabled(False):                                    #    #\n",
        "            output = model(images)                                             #    #\n",
        "            output = F.softmax(output)                                         #    #\n",
        "            probabilities, predictions = torch.max(output, dim=1)              #    #\n",
        "        #----------------------------------------------------------------------#    #\n",
        "        images_savings.append(images.cpu())                                         #\n",
        "        labels_savings += labels.tolist()                                           #\n",
        "        probs_savings  += probabilities.tolist()                                    #\n",
        "        preds_savings  += predictions.tolist()                                      #\n",
        "    #-------------------------------------------------------------------------------#\n",
        "\n",
        "    # Accuracy\n",
        "    correct_elements = 0\n",
        "    for i in range(len(labels_savings)):\n",
        "        if labels_savings[i] == preds_savings[i]:\n",
        "            correct_elements += 1\n",
        "    accuracy = correct_elements/len(labels_savings)\n",
        "\n",
        "    return images_savings, labels_savings, probs_savings, preds_savings, accuracy"
      ],
      "metadata": {
        "id": "hL4H8ELvyOmK"
      },
      "execution_count": 31,
      "outputs": []
    },
    {
      "cell_type": "code",
      "source": [
        "# Evaluate the model on test data\n",
        "images, labels, probs, preds, accuracy = get_probs_and_preds(model, test_loader)\n",
        "\n",
        "# Print results\n",
        "print(f'Accuracy on test: {accuracy:.4f}')"
      ],
      "metadata": {
        "colab": {
          "base_uri": "https://localhost:8080/"
        },
        "id": "hZxiewObyRaV",
        "outputId": "a91adec9-4473-48e7-936f-7d012c6f398d"
      },
      "execution_count": 32,
      "outputs": [
        {
          "output_type": "stream",
          "name": "stdout",
          "text": [
            "Accuracy on test: 0.8782\n"
          ]
        }
      ]
    }
  ],
  "metadata": {
    "accelerator": "GPU",
    "colab": {
      "collapsed_sections": [
        "Hvy4UNYdWsdg",
        "5D0OtBpYWv5z",
        "TJtuBEkpddJc",
        "8SyOOVa3W4gy",
        "5riSw6wdxDFR"
      ],
      "provenance": []
    },
    "gpuClass": "standard",
    "kernelspec": {
      "display_name": "Python 3.9.10 64-bit (system)",
      "language": "python",
      "name": "python3"
    },
    "language_info": {
      "codemirror_mode": {
        "name": "ipython",
        "version": 3
      },
      "file_extension": ".py",
      "mimetype": "text/x-python",
      "name": "python",
      "nbconvert_exporter": "python",
      "pygments_lexer": "ipython3",
      "version": "3.9.10"
    },
    "vscode": {
      "interpreter": {
        "hash": "9805bccb659ffcb6952b8b29440036fac091f8170d71a5a402ad9a8f2988209f"
      }
    }
  },
  "nbformat": 4,
  "nbformat_minor": 0
}